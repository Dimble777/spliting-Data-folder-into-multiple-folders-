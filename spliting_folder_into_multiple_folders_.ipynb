{
  "nbformat": 4,
  "nbformat_minor": 0,
  "metadata": {
    "colab": {
      "provenance": [],
      "authorship_tag": "ABX9TyMWk8iuRng8i31532iRPo/z",
      "include_colab_link": true
    },
    "kernelspec": {
      "name": "python3",
      "display_name": "Python 3"
    },
    "language_info": {
      "name": "python"
    }
  },
  "cells": [
    {
      "cell_type": "markdown",
      "metadata": {
        "id": "view-in-github",
        "colab_type": "text"
      },
      "source": [
        "<a href=\"https://colab.research.google.com/github/Dimble777/spliting-Data-folder-into-multiple-folders-/blob/main/spliting_folder_into_multiple_folders_.ipynb\" target=\"_parent\"><img src=\"https://colab.research.google.com/assets/colab-badge.svg\" alt=\"Open In Colab\"/></a>"
      ]
    },
    {
      "cell_type": "code",
      "source": [
        "from google.colab import drive\n",
        "drive.mount('/content/drive')"
      ],
      "metadata": {
        "colab": {
          "base_uri": "https://localhost:8080/"
        },
        "id": "Ijjh9v_PtDy6",
        "outputId": "8d475112-988d-4876-8a69-402edde2ef6f"
      },
      "execution_count": null,
      "outputs": [
        {
          "output_type": "stream",
          "name": "stdout",
          "text": [
            "Mounted at /content/drive\n"
          ]
        }
      ]
    },
    {
      "cell_type": "code",
      "source": [
        "import os\n",
        "import shutil\n",
        "\n",
        "def split_dataset(frames_folder, labels_folder, output_folder, clip_size=16):\n",
        "    \"\"\"\n",
        "    Split frames and labels into multiple clips (clip1, clip2, ...),\n",
        "    each containing `clip_size` frames and labels.\n",
        "\n",
        "    Args:\n",
        "        frames_folder (str): Path to frames folder (images).\n",
        "        labels_folder (str): Path to labels folder (.txt files).\n",
        "        output_folder (str): Path where clip folders will be saved.\n",
        "        clip_size (int): Number of frames (and labels) per clip.\n",
        "    \"\"\"\n",
        "    # Make sure output folder exists\n",
        "    os.makedirs(output_folder, exist_ok=True)\n",
        "\n",
        "    # Get sorted list of frames and labels\n",
        "    frames = sorted([f for f in os.listdir(frames_folder) if f.lower().endswith(('.jpg', '.png'))])\n",
        "    labels = sorted([f for f in os.listdir(labels_folder) if f.endswith('.txt')])\n",
        "\n",
        "    if len(frames) != len(labels):\n",
        "        print(\"⚠️ Warning: Number of frames and labels do not match!\")\n",
        "        print(f\"Frames: {len(frames)}, Labels: {len(labels)}\")\n",
        "\n",
        "    # Split into chunks\n",
        "    num_clips = (len(frames) // clip_size)\n",
        "    print(f\"Total frames: {len(frames)}, Creating {num_clips} clips...\")\n",
        "\n",
        "    for i in range(num_clips):\n",
        "        clip_name = f\"clip{i+1}\"\n",
        "        clip_path = os.path.join(output_folder, clip_name)\n",
        "\n",
        "        # Create folders for frames and labels\n",
        "        frames_out = os.path.join(clip_path, \"images\")\n",
        "        labels_out = os.path.join(clip_path, \"labels\")\n",
        "        os.makedirs(frames_out, exist_ok=True)\n",
        "        os.makedirs(labels_out, exist_ok=True)\n",
        "\n",
        "        # Copy files\n",
        "        for j in range(clip_size):\n",
        "            idx = i * clip_size + j\n",
        "            frame_file = frames[idx]\n",
        "            label_file = labels[idx]\n",
        "\n",
        "            shutil.copy(os.path.join(frames_folder, frame_file), os.path.join(frames_out, frame_file))\n",
        "            shutil.copy(os.path.join(labels_folder, label_file), os.path.join(labels_out, label_file))\n",
        "\n",
        "    print(\"✅ Splitting completed!\")\n",
        "\n",
        "# Example usage:\n",
        "frames_folder = (\"/content/drive/MyDrive/anotatin rlst/OutPut0.1.mp4/images\")\n",
        "labels_folder = (\"/content/drive/MyDrive/anotatin rlst/OutPut0.1.mp4/labels\")\n",
        "output_folder = (\"/content/drive/MyDrive/dfdgf\")\n",
        "\n",
        "split_dataset(frames_folder, labels_folder, output_folder, clip_size=16)\n"
      ],
      "metadata": {
        "id": "p5Bmdv9atnOF",
        "colab": {
          "base_uri": "https://localhost:8080/"
        },
        "outputId": "7cfe208e-15d2-4514-b878-f9f89e7215e2"
      },
      "execution_count": null,
      "outputs": [
        {
          "output_type": "stream",
          "name": "stdout",
          "text": [
            "Total frames: 833, Creating 52 clips...\n",
            "✅ Splitting completed!\n"
          ]
        }
      ]
    }
  ]
}